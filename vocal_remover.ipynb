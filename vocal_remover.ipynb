{
  "nbformat": 4,
  "nbformat_minor": 0,
  "metadata": {
    "colab": {
      "provenance": [],
      "gpuType": "T4",
      "collapsed_sections": [
        "UNDTTRJFmJhp"
      ],
      "include_colab_link": true
    },
    "kernelspec": {
      "name": "python3",
      "display_name": "Python 3"
    },
    "language_info": {
      "name": "python"
    },
    "accelerator": "GPU"
  },
  "cells": [
    {
      "cell_type": "markdown",
      "metadata": {
        "id": "view-in-github",
        "colab_type": "text"
      },
      "source": [
        "<a href=\"https://colab.research.google.com/github/ogane0112/ganesya-svc/blob/main/vocal_remover.ipynb\" target=\"_parent\"><img src=\"https://colab.research.google.com/assets/colab-badge.svg\" alt=\"Open In Colab\"/></a>"
      ]
    },
    {
      "cell_type": "markdown",
      "source": [
        "# 1. vocal-removerインストール"
      ],
      "metadata": {
        "id": "UNDTTRJFmJhp"
      }
    },
    {
      "cell_type": "code",
      "execution_count": null,
      "metadata": {
        "id": "bEkVBHJVr_sJ"
      },
      "outputs": [],
      "source": [
        "!wget https://github.com/tsurumeso/vocal-remover/releases/download/v5.1.0/vocal-remover-v5.1.0.zip\n",
        "!unzip vocal-remover-v5.1.0.zip"
      ]
    },
    {
      "cell_type": "code",
      "source": [
        "%cd vocal-remover"
      ],
      "metadata": {
        "id": "Ulal7YvusNaY"
      },
      "execution_count": null,
      "outputs": []
    },
    {
      "cell_type": "code",
      "source": [
        "!pip install -r requirements.txt"
      ],
      "metadata": {
        "id": "MACj-bE5sR-X"
      },
      "execution_count": null,
      "outputs": []
    },
    {
      "cell_type": "code",
      "source": [
        "# 音声の再生に使う\n",
        "!pip install pydub"
      ],
      "metadata": {
        "id": "kmXjhAuE_esY"
      },
      "execution_count": null,
      "outputs": []
    },
    {
      "cell_type": "markdown",
      "source": [
        "# 2. 抽出"
      ],
      "metadata": {
        "id": "xvgpQ7cUm90o"
      }
    },
    {
      "cell_type": "code",
      "source": [
        "# @markdown 抽出したいファイルパス\n",
        "\n",
        "audio = \"\" # @param {type:\"string\"}\n",
        "\n",
        "# @markdown GPUを使うか\n",
        "is_gpu = \"GPU\" # @param [\"GPU\", \"CPU\"] {type:\"string\"}\n",
        "\n",
        "if is_gpu == \"GPU\":\n",
        "  num = 0\n",
        "else:\n",
        "  num = -1\n",
        "\n",
        "!python inference.py --input {audio} --gpu {num} --output_dir '/content' --tta"
      ],
      "metadata": {
        "cellView": "form",
        "id": "_h9XiSNUnXXh"
      },
      "execution_count": null,
      "outputs": []
    },
    {
      "cell_type": "markdown",
      "source": [
        "# 3. 再生"
      ],
      "metadata": {
        "id": "8Rzn0YhyAmBO"
      }
    },
    {
      "cell_type": "code",
      "source": [
        "# @markdown 再生したいファイルパス\n",
        "\n",
        "import pydub\n",
        "from IPython.display import Audio\n",
        "import numpy as np\n",
        "\n",
        "audio_playback = \"\" # @param {type:\"string\"}\n",
        "\n",
        "# 音声ファイルの読み込み\n",
        "audio_file = pydub.AudioSegment.from_file(audio_playback, format=\"wav\")\n",
        "\n",
        "# ステレオからモノラルへの変換\n",
        "mono_audio = audio_file.set_channels(1)\n",
        "\n",
        "# バイナリデータへの変換\n",
        "binary_data = mono_audio.raw_data\n",
        "\n",
        "# NumPy配列への変換\n",
        "numpy_data = np.frombuffer(binary_data, dtype=np.int16)\n",
        "\n",
        "# IPython.displayで音声を再生\n",
        "Audio(data=numpy_data, rate=mono_audio.frame_rate)"
      ],
      "metadata": {
        "cellView": "form",
        "id": "c_qVleJd_qZl"
      },
      "execution_count": null,
      "outputs": []
    },
    {
      "cell_type": "markdown",
      "source": [
        "# 参考\n",
        "\n",
        "https://colab.research.google.com/drive/1CDJOyH_7sHc_KiYH66uKwoHjqCegjtpI#scrollTo=3FICZ3Djwby1&line=1&uniqifier=1"
      ],
      "metadata": {
        "id": "3FICZ3Djwby1"
      }
    },
    {
      "cell_type": "code",
      "source": [],
      "metadata": {
        "id": "hMxtx0klwqyL"
      },
      "execution_count": null,
      "outputs": []
    }
  ]
}